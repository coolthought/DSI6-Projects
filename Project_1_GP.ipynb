{
 "cells": [
  {
   "cell_type": "markdown",
   "metadata": {},
   "source": [
    "<img src=\"http://imgur.com/1ZcRyrc.png\" style=\"float: left; margin: 15px; height: 80px\">\n",
    "\n",
    "# Project 1\n",
    "\n",
    "### Building \"Pokemon Stay\"\n",
    "\n",
    "---\n",
    "You are an analyst at a \"scrappy\" online gaming company that specializes in remakes of last year's fads.\n",
    "\n",
    "Your boss, who runs the product development team, is convinced that Pokemon Go's fatal flaw was that you had to actually move around outside. She has design mock-ups for a new game called Pokemon Stay: in this version players still need to move, but just from website to website. Pokemon gyms are now popular online destinations, and catching Pokemon in the \"wild\" simply requires browsing the internet for hours in the comfort of your home.\n",
    "\n",
    "She wants you to program a prototype version of the game, and analyze the planned content to help the team calibrate the design."
   ]
  },
  {
   "cell_type": "markdown",
   "metadata": {},
   "source": [
    "#### Package imports\n",
    "\n",
    "The pprint package below is the only package imported here, and it's not even strictly required to do any of the project. Printing python variables and objects with pprint can help to format them in a \"prettier\" way."
   ]
  },
  {
   "cell_type": "code",
   "execution_count": 1,
   "metadata": {},
   "outputs": [],
   "source": [
    "from pprint import pprint #dklfjslkadjflksdajflksdjaflkjdsalkdfjlaskjf"
   ]
  },
  {
   "cell_type": "code",
   "execution_count": 2,
   "metadata": {},
   "outputs": [],
   "source": [
    "# kdfhasjkfhkjdsahfkjshajksfd\n",
    "# aksdfhksadhfkjashdfkjdshakfj\n",
    "# aksjfdhkjsahfdlkjdashflksja"
   ]
  },
  {
   "cell_type": "markdown",
   "metadata": {},
   "source": [
    "ciao\n",
    "ciao"
   ]
  },
  {
   "cell_type": "markdown",
   "metadata": {},
   "source": [
    "ciao  space space  \n",
    "ciao"
   ]
  },
  {
   "cell_type": "code",
   "execution_count": null,
   "metadata": {},
   "outputs": [],
   "source": []
  },
  {
   "cell_type": "markdown",
   "metadata": {},
   "source": [
    "<img src=\"http://imgur.com/l5NasQj.png\" style=\"float: left; margin: 25px 15px 0px 0px; height: 25px\">\n",
    "\n",
    "## 1. Defining a player\n",
    "\n",
    "---\n",
    "\n",
    "The player variables are:\n",
    "\n",
    "    player_id : id code unique to each player (integer)\n",
    "    player_name : entered name of the player (string)\n",
    "    time_played : number of time played the game in minutes (float)\n",
    "    player_pokemon: the player's captured pokemon (dictionary)\n",
    "    gyms_visited: ids of the gyms that a player has visited (list)\n",
    "    \n",
    "Create the components for a player object by defining each of these variables. The dictionary and list variables should just be defined as empty; you can use any (correctly typed) values for the others."
   ]
  },
  {
   "cell_type": "code",
   "execution_count": null,
   "metadata": {},
   "outputs": [],
   "source": [
    "#1. 1st iteration\n",
    "#def player_stats (player_id, player_name, time_played, player_pokemon, gyms_visited):\n",
    "#    player_id = int(player_id)\n",
    "#    player_name = str(player_name)\n",
    "#    time_played = float(time_played)\n",
    "#    player_pokemon = {}\n",
    "#    gyms_visited = []\n",
    "#    return"
   ]
  },
  {
   "cell_type": "code",
   "execution_count": 3,
   "metadata": {},
   "outputs": [],
   "source": [
    "#1. final iteration\n",
    "player_id = 1\n",
    "player_name = 'John Doe'\n",
    "time_played = 0.0\n",
    "player_pokemon = {}\n",
    "gyms_visited = []"
   ]
  },
  {
   "cell_type": "markdown",
   "metadata": {},
   "source": [
    "<img src=\"http://imgur.com/l5NasQj.png\" style=\"float: left; margin: 25px 15px 0px 0px; height: 25px\">\n",
    "\n",
    "## 2. Defining \"gym\" locations\n",
    "\n",
    "---\n",
    "\n",
    "As the sole programmer, Pokemon Stay will have to start small. To begin, there will be 10 different gym location websites on the internet. The gym locations are:\n",
    "\n",
    "    1. 'reddit.com'\n",
    "    2. 'amazon.com'\n",
    "    3. 'twitter.com'\n",
    "    4. 'linkedin.com'\n",
    "    5. 'ebay.com'\n",
    "    6. 'netflix.com'\n",
    "    7. 'sporcle.com'\n",
    "    8. 'stackoverflow.com'\n",
    "    9. 'github.com'\n",
    "    10. 'quora.com'\n",
    "\n",
    "1. Set up a list of all the gym locations. This will be a list of strings.\n",
    "2. Append two of these locations to your player's list of visited gyms.\n",
    "3. Print the list."
   ]
  },
  {
   "cell_type": "code",
   "execution_count": null,
   "metadata": {},
   "outputs": [],
   "source": [
    "#2. first iteration\n",
    "\n",
    "#gyms_visited = []\n",
    "\n",
    "#list_of_gyms = [\n",
    "#    'reddit.com',\n",
    "#    'amazon.com',\n",
    "#    'twitter.com',\n",
    "#    'linkedin.com',\n",
    "#    'ebay.com',\n",
    "#    'netflix.com',\n",
    "#    'sporcle.com',\n",
    "#    'stackoverflow.com',\n",
    "#    'github.com',\n",
    "#    'quora.com']\n",
    "\n",
    "#number_count = 0\n",
    "\n",
    "#for gym in list_of_gyms:\n",
    "#    if number_count < 2:\n",
    "#        number_count += 1\n",
    "#        gym_visit = input(\"What 2 gyms you have visited \")\n",
    "#        if gym_visit == gym:\n",
    "#            gyms_visited.append(gym)\n",
    "#        else:\n",
    "#            print(\"Gym does not exist\")\n",
    "#    else:\n",
    "#        break\n",
    "        \n",
    "#It works only when key in reddit.com first,\n",
    "#follow by amazon.com. any other way, it will not work\n",
    "        \n",
    "#print(gyms_visited)"
   ]
  },
  {
   "cell_type": "code",
   "execution_count": null,
   "metadata": {},
   "outputs": [],
   "source": [
    "#2. second iteration\n",
    "\n",
    "#gyms_visited = []\n",
    "\n",
    "#list_of_gyms = [\n",
    "#    'reddit.com',\n",
    "#    'amazon.com',\n",
    "#    'twitter.com',\n",
    "#    'linkedin.com',\n",
    "#    'ebay.com',\n",
    "#    'netflix.com',\n",
    "#    'sporcle.com',\n",
    "#    'stackoverflow.com',\n",
    "#    'github.com',\n",
    "#    'quora.com']\n",
    "\n",
    "#number_count = 0\n",
    "\n",
    "#print(\"What 2 gyms you have visited?\")\n",
    "\n",
    "#for gym in list_of_gyms:   \n",
    "#    gym_visit = input(\"gym \")\n",
    "#    if gym == gym_visit:\n",
    "#        gyms_visited.append(gym)        \n",
    "#    else:\n",
    "#        print(\"Gym does not exist\")\n",
    "    \n",
    "#    if number_count < 1:\n",
    "#        number_count += 1\n",
    "#    else:\n",
    "#        break\n",
    "        \n",
    "#It works only when key in reddit.com first,\n",
    "#Second input only amazon.com. Any other way, it will not work.\n",
    "\n",
    "#print(gyms_visited)"
   ]
  },
  {
   "cell_type": "code",
   "execution_count": 4,
   "metadata": {},
   "outputs": [
    {
     "name": "stdout",
     "output_type": "stream",
     "text": [
      "0 reddit.com\n",
      "1 amazon.com\n",
      "2 twitter.com\n",
      "3 linkedin.com\n",
      "4 ebay.com\n",
      "5 netflix.com\n",
      "6 sporcle.com\n",
      "7 stackoverflow.com\n",
      "8 github.com\n",
      "9 quora.com\n",
      "key the index number of the 2 gyms you have visited\n",
      "5\n",
      "6\n",
      "['netflix.com', 'sporcle.com']\n"
     ]
    }
   ],
   "source": [
    "#2. final iteration - overhaul\n",
    "\n",
    "gyms_visited = []\n",
    "\n",
    "list_of_gyms = [\n",
    "    'reddit.com',\n",
    "    'amazon.com',\n",
    "    'twitter.com',\n",
    "    'linkedin.com',\n",
    "    'ebay.com',\n",
    "    'netflix.com',\n",
    "    'sporcle.com',\n",
    "    'stackoverflow.com',\n",
    "    'github.com',\n",
    "    'quora.com']\n",
    "\n",
    "#list all the gyms\n",
    "\n",
    "for i in range(0,10):\n",
    "    print(i, list_of_gyms[i])\n",
    "\n",
    "#input 2 indexes and append gym into gyms_visited\n",
    "\n",
    "print('key the index number of the 2 gyms you have visited')\n",
    "\n",
    "counter = 0 \n",
    "while counter < 2:\n",
    "    gym_visit = input()\n",
    "    gym_visit = int(gym_visit)\n",
    "    gyms_visited.append(list_of_gyms[gym_visit])\n",
    "    counter += 1\n",
    "\n",
    "gym_visit = None\n",
    "    \n",
    "print(gyms_visited)\n",
    "\n",
    "#but not perfect yet because I can enter the same gym twice and return error message if enter any other value\n",
    "#added None to reset gym_visit index\n",
    "#need to--> kernel - Restart & Clear Output when it cannot run properly"
   ]
  },
  {
   "cell_type": "markdown",
   "metadata": {},
   "source": [
    "<img src=\"http://imgur.com/l5NasQj.png\" style=\"float: left; margin: 25px 15px 0px 0px; height: 25px\">\n",
    "\n",
    "## 3. Create a pokedex\n",
    "\n",
    "---\n",
    "\n",
    "We also need to create some pokemon to catch. Each pokemon will be defined by these variables:\n",
    "\n",
    "    pokemon_id : unique identifier for each pokemon (integer)\n",
    "    name : the name of the pokemon (string)\n",
    "    type : the category of pokemon (string)\n",
    "    hp : base hitpoints (integer)\n",
    "    attack : base attack (integer)\n",
    "    defense : base defense (integer)\n",
    "    special_attack : base special attack (integer)\n",
    "    special_defense : base sepecial defense (integer)\n",
    "    speed : base speed (integer)\n",
    "\n",
    "We are only going to create 3 different pokemon with these `pokemon_id` and `pokemon_name` values:\n",
    "\n",
    "    1 : 'charmander'\n",
    "    2 : 'squirtle'\n",
    "    3 : 'bulbasaur'\n",
    "\n",
    "Create a dictionary that will contain the pokemon. The keys of the dictionary will be the `pokemon_id` and the values will themselves dictionaries that contain the other pokemon variables. The structure of the pokedex dictionary will start like so:\n",
    "     \n",
    "     {\n",
    "         1: {\n",
    "                 'name':'charmander',\n",
    "                 'type':'fire',\n",
    "                 ...\n",
    "                 \n",
    "The `type` of charmander, squirtle, and bulbasaur should be `'fire'`, `'water'`, and `'poison'` respectively. The other values are up to you, make them anything you like!\n",
    "\n",
    "Print (or pretty print) the pokedex dictionary with the 3 pokemon."
   ]
  },
  {
   "cell_type": "code",
   "execution_count": null,
   "metadata": {},
   "outputs": [],
   "source": [
    "#3. first iteration\n",
    "#pokemon_id = (1,2,3)\n",
    "#pok_name = str()\n",
    "#pok_type = str()\n",
    "#pok_hp = int()\n",
    "#pok_attack = int()\n",
    "#pok_defense = int()\n",
    "#pok_special_attack = int()\n",
    "#pok_special_defense = int()\n",
    "#pok_speed = int()\n",
    "\n",
    "\n",
    "#pokedex = {pokemon_id : {pok_name : 'charmander',      \n",
    "#                         pok_type : 'fire',\n",
    "#                         pok_hp : 39,\n",
    "#                         pok_attack : 52,\n",
    "#                         pok_defense : 43,\n",
    "#                         pok_special_attack : 60,\n",
    "#                         pok_special_defense : 50,\n",
    "#                         pok_speed : 65},\n",
    "\n",
    "#           pokemon_id : {pok_name : 'squirtle',\n",
    "#                         pok_type : 'water',\n",
    "#                         pok_hp : 44,\n",
    "#                         pok_attack : 48,\n",
    "#                         pok_defense : 65,\n",
    "#                         pok_special_attack : 50,\n",
    "#                         pok_special_defense : 64,\n",
    "#                         pok_speed : 43},\n",
    "\n",
    "#           pokemon_id : {pok_name : 'bulbasaur',\n",
    "#                         pok_type : 'poison',\n",
    "#                         pok_hp : 45,\n",
    "#                         pok_attack : 49,\n",
    "#                         pok_defense : 49,\n",
    "#                         pok_special_attack : 65,\n",
    "#                         pok_special_defense : 65,\n",
    "#                         pok_speed : 45}}\n",
    "\n",
    "#print(pokedex)"
   ]
  },
  {
   "cell_type": "code",
   "execution_count": null,
   "metadata": {},
   "outputs": [],
   "source": [
    "#3. second iteration\n",
    "#from pprint import pprint\n",
    "\n",
    "#pokemon_id = (1,2,3)\n",
    "#pok_name = ['charmander','squirtle','bulbasaur']\n",
    "#pok_type = ['fire','water','poison']\n",
    "#pok_hp = [39,44,45]\n",
    "#pok_attack = [52,48,49]\n",
    "#pok_defense = [43,65,49]\n",
    "#pok_special_attack = [60,50,65]\n",
    "#pok_special_defense = [50,64,65]\n",
    "#pok_speed = [65,43,45]\n",
    "\n",
    "\n",
    "#pokedex = {pokemon_id : {'pok_name' : pok_name,      \n",
    "#                         'pok_type' : pok_type,\n",
    "#                         'pok_hp' : pok_hp,\n",
    "#                         'pok_attack' : pok_attack,\n",
    "#                         'pok_defense' : pok_defense,\n",
    "#                         'pok_special_attack' : pok_special_attack,\n",
    "#                         'pok_special_defense' : pok_special_defense,\n",
    "#                         'pok_speed' : pok_speed}}\n",
    "\n",
    "#pprint(pokedex)"
   ]
  },
  {
   "cell_type": "code",
   "execution_count": 5,
   "metadata": {},
   "outputs": [
    {
     "name": "stdout",
     "output_type": "stream",
     "text": [
      "{1: {'attack': 52,\n",
      "     'defense': 43,\n",
      "     'hp': 39,\n",
      "     'name': 'charmander',\n",
      "     'special_attack': 60,\n",
      "     'special_defense': 50,\n",
      "     'speed': 65,\n",
      "     'type': 'fire'},\n",
      " 2: {'attack': 48,\n",
      "     'defense': 65,\n",
      "     'hp': 44,\n",
      "     'name': 'squirtle',\n",
      "     'special_attack': 50,\n",
      "     'special_defense': 64,\n",
      "     'speed': 43,\n",
      "     'type': 'fire'},\n",
      " 3: {'attack': 49,\n",
      "     'defense': 49,\n",
      "     'hp': 45,\n",
      "     'name': 'bulbasaur',\n",
      "     'special_attack': 65,\n",
      "     'special_defense': 65,\n",
      "     'speed': 45,\n",
      "     'type': 'poison'}}\n"
     ]
    }
   ],
   "source": [
    "#3. final iteration\n",
    "from pprint import pprint\n",
    "\n",
    "pokedex = {1 : {'name' : 'charmander',\n",
    "                'type' : 'fire',\n",
    "                'hp' : 39,\n",
    "                'attack' : 52,\n",
    "                'defense' : 43,\n",
    "                'special_attack' : 60,\n",
    "                'special_defense' : 50,\n",
    "                'speed' : 65},\n",
    "           2 : {'name' : 'squirtle',\n",
    "                'type' : 'fire',\n",
    "                'hp' : 44,\n",
    "                'attack' : 48,\n",
    "                'defense' : 65,\n",
    "                'special_attack' : 50,\n",
    "                'special_defense' : 64,\n",
    "                'speed' : 43},\n",
    "           3 : {'name' : 'bulbasaur',\n",
    "                'type' : 'poison',\n",
    "                'hp' : 45,\n",
    "                'attack' : 49,\n",
    "                'defense' : 49,\n",
    "                'special_attack' : 65,\n",
    "                'special_defense' : 65,\n",
    "                'speed' : 45}}          \n",
    "               \n",
    "pprint(pokedex)"
   ]
  },
  {
   "cell_type": "markdown",
   "metadata": {},
   "source": [
    "<img src=\"http://imgur.com/l5NasQj.png\" style=\"float: left; margin: 25px 15px 0px 0px; height: 25px\">\n",
    "\n",
    "## 4. Create a data structure for players\n",
    "\n",
    "---\n",
    "\n",
    "### 4.1 \n",
    "\n",
    "In order to maintain a database of multiple players, create a dictionary that keeps track of players indexed by `player_id`. \n",
    "\n",
    "The keys of the dictionary will be `player_id` and values will be dictionaries containing each player's variables (from question 1). \n",
    "\n",
    "Construct the `players` dictionary and insert the player that you defined in question 1, then print `players`."
   ]
  },
  {
   "cell_type": "code",
   "execution_count": 6,
   "metadata": {},
   "outputs": [
    {
     "name": "stdout",
     "output_type": "stream",
     "text": [
      "{1: {'gyms_visited': ['netflix.com', 'sporcle.com'],\n",
      "     'player_name': 'John Doe',\n",
      "     'player_pokemon': {},\n",
      "     'time_played': 0.0}}\n"
     ]
    }
   ],
   "source": [
    "#4.1 Final interation\n",
    "#Run---> 1. final iteration\n",
    "#Run---> 2. final iteration - overhaul\n",
    "\n",
    "players = dict()\n",
    "player_id = 1\n",
    "players[1] = {'player_name':player_name,\n",
    "              'time_played':time_played, \n",
    "              'player_pokemon':player_pokemon,\n",
    "              'gyms_visited':gyms_visited}\n",
    "\n",
    "pprint(players)"
   ]
  },
  {
   "cell_type": "markdown",
   "metadata": {},
   "source": [
    "---\n",
    "\n",
    "### 4.2\n",
    "\n",
    "Create a new player with `player_id = 2` in the `players` dictionary. Leave the `'player_pokemon'` dictionary empty. Append `'alcatraz'` and `'pacific_beach'` to the `'gyms_visited'` list for player 2.\n",
    "\n",
    "The `'player_name'` and `'time_played'` values are up to you, but must be a string and float, respectively.\n",
    "\n",
    "Remember, the player_id is the key for the player in the players dictionary.\n",
    "\n",
    "Print the `players` dictionary with the new player inserted."
   ]
  },
  {
   "cell_type": "code",
   "execution_count": null,
   "metadata": {},
   "outputs": [],
   "source": [
    "#4.2 1st iteration\n",
    "#player_id = 2\n",
    "#player_name = 'Jane Doe'\n",
    "#time_played = 55.5\n",
    "#player_pokemon = {}\n",
    "#gyms_visited = 'alcatraz','pacific_beach'\n",
    "\n",
    "\n",
    "#players = dict()\n",
    "#players[player_id] = {'player_name':player_name,\n",
    "#                      'time_played':time_played, \n",
    "#                      'player_pokemon':player_pokemon,\n",
    "#                      'gyms_visited':gyms_visited}\n",
    "\n",
    "#pprint(players)"
   ]
  },
  {
   "cell_type": "code",
   "execution_count": 7,
   "metadata": {},
   "outputs": [
    {
     "name": "stdout",
     "output_type": "stream",
     "text": [
      "{'gyms_visited': ('alcatraz', 'pacific_beach'),\n",
      " 'player_name': 'Jane Doe',\n",
      " 'player_pokemon': {},\n",
      " 'time_played': 55.5}\n"
     ]
    }
   ],
   "source": [
    "#4.2 Final iteration\n",
    "player_id = 2\n",
    "players[player_id] = {'player_name' : 'Jane Doe',\n",
    "                      'time_played' : 55.5,\n",
    "                      'player_pokemon' : {},\n",
    "                      'gyms_visited' : ('alcatraz','pacific_beach')}\n",
    "\n",
    "\n",
    "pprint(players[player_id])"
   ]
  },
  {
   "cell_type": "markdown",
   "metadata": {},
   "source": [
    "<img src=\"http://imgur.com/l5NasQj.png\" style=\"float: left; margin: 25px 15px 0px 0px; height: 25px\">\n",
    "\n",
    "## 5. Add captured pokemon for each player\n",
    "\n",
    "---\n",
    "\n",
    "The `'player_pokemon'` keyed dictionaries for each player keep track of which of the pokemon each player has.\n",
    "\n",
    "The keys of the `'player_pokemon'` dictionaries are the pokemon ids that correspond to the ids in the `pokedex` dictionary you created earlier. The values are integers specifying the stats for the pokemon.\n",
    "\n",
    "Give player 1 a squirtle. Give player 2 charmander and a bulbasaur.\n",
    "\n",
    "Print the players dictionary after adding the pokemon for each player.\n"
   ]
  },
  {
   "cell_type": "code",
   "execution_count": null,
   "metadata": {},
   "outputs": [],
   "source": [
    "#5. first iteration\n",
    "#time_played = []\n",
    "#player_id = 1 \n",
    "#while player_id < 2:\n",
    "#    if player_id == 1:  \n",
    "#        player_name[player_id].append('John Doe')\n",
    "#        time_played[player_id].append(0.5)\n",
    "#        player_pokemon[player_id] = pokedex[2]\n",
    "#        gyms_visited[player_id] = [3,4]\n",
    "#    elif player_id == 2:   \n",
    "#        player_name[player_id].append('Jane Doe')\n",
    "#        time_played[player_id] = 55.5\n",
    "#        player_pokemon[player_id] = pokedex[1,3]\n",
    "#        gyms_visited[player_id] = [1,2]\n",
    "#    else:\n",
    "#        player_id += 1\n",
    "\n",
    "#pprint(players)"
   ]
  },
  {
   "cell_type": "code",
   "execution_count": null,
   "metadata": {},
   "outputs": [],
   "source": [
    "# test output of players\n",
    "players"
   ]
  },
  {
   "cell_type": "code",
   "execution_count": 8,
   "metadata": {},
   "outputs": [
    {
     "name": "stdout",
     "output_type": "stream",
     "text": [
      "{1: {'gyms_visited': ['netflix.com', 'sporcle.com'],\n",
      "     'player_name': 'John Doe',\n",
      "     'player_pokemon': {'attack': 48,\n",
      "                        'defense': 65,\n",
      "                        'hp': 44,\n",
      "                        'name': 'squirtle',\n",
      "                        'special_attack': 50,\n",
      "                        'special_defense': 64,\n",
      "                        'speed': 43,\n",
      "                        'type': 'fire'},\n",
      "     'time_played': 0.0},\n",
      " 2: {'gyms_visited': ('alcatraz', 'pacific_beach'),\n",
      "     'player_name': 'Jane Doe',\n",
      "     'player_pokemon': ({'attack': 52,\n",
      "                         'defense': 43,\n",
      "                         'hp': 39,\n",
      "                         'name': 'charmander',\n",
      "                         'special_attack': 60,\n",
      "                         'special_defense': 50,\n",
      "                         'speed': 65,\n",
      "                         'type': 'fire'},\n",
      "                        {'attack': 49,\n",
      "                         'defense': 49,\n",
      "                         'hp': 45,\n",
      "                         'name': 'bulbasaur',\n",
      "                         'special_attack': 65,\n",
      "                         'special_defense': 65,\n",
      "                         'speed': 45,\n",
      "                         'type': 'poison'}),\n",
      "     'time_played': 55.5}}\n"
     ]
    }
   ],
   "source": [
    "#5. Final iteration\n",
    "players[1].update({'player_pokemon' : pokedex[2]})\n",
    "players[2].update({'player_pokemon' : (pokedex[1],pokedex[3])})\n",
    "\n",
    "pprint(players)"
   ]
  },
  {
   "cell_type": "markdown",
   "metadata": {},
   "source": [
    "\n",
    "\n",
    "## 6. What gyms have players visited?\n",
    "\n",
    "---\n",
    "<img src=\"http://imgur.com/l5NasQj.png\" style=\"float: left; margin: 25px 15px 0px 0px; height: 25px\">\n",
    "### 6.1\n",
    "\n",
    "Write a for-loop that:\n",
    "\n",
    "1. Iterates through the `pokemon_gyms` list of gym locations you defined before.\n",
    "2. For each gym, iterate through each player in the `players` dictionary with a second, internal for-loop.\n",
    "3. If the player has visited the gym, print out \"[player] has visited [gym location].\", filling in [player] and [gym location] with the current player's name and current gym location."
   ]
  },
  {
   "cell_type": "code",
   "execution_count": 9,
   "metadata": {},
   "outputs": [
    {
     "name": "stdout",
     "output_type": "stream",
     "text": [
      "'John Doe has visited netflix.com'\n",
      "'John Doe has visited sporcle.com'\n"
     ]
    }
   ],
   "source": [
    "for gym in list_of_gyms:\n",
    "    for player, location in players.items():\n",
    "        if gym in location ['gyms_visited']:\n",
    "            pprint('%s has visited %s'%(location['player_name'],gym))"
   ]
  },
  {
   "cell_type": "markdown",
   "metadata": {},
   "source": [
    "<img src=\"http://imgur.com/xDpSobf.png\" style=\"float: left; margin: 25px 15px 0px 0px; height: 25px\">\n",
    "### 6.2\n",
    "\n",
    "How many times did that loop run? If you have N gyms and also N players, how many times would it run as a function of N?\n",
    "\n",
    "Can you think of a more efficient way to accomplish the same thing? \n",
    "\n",
    "(You can write your answer as Markdown text.)"
   ]
  },
  {
   "cell_type": "code",
   "execution_count": null,
   "metadata": {},
   "outputs": [],
   "source": []
  },
  {
   "cell_type": "markdown",
   "metadata": {},
   "source": [
    "<img src=\"http://imgur.com/l5NasQj.png\" style=\"float: left; margin: 25px 15px 0px 0px; height: 25px\">\n",
    "\n",
    "## 7. Calculate player \"power\".\n",
    "\n",
    "---\n",
    "\n",
    "Define a function that will calculate a player's \"power\". Player power is defined as the sum of the base statistics all of their pokemon.\n",
    "\n",
    "Your function will:\n",
    "\n",
    "1. Accept the `players` dictionary, `pokedex` dictionary, and a player_id as arguments.\n",
    "2. For the specified player_id, look up that player's pokemon and their level(s).\n",
    "3. Find and aggregate the attack and defense values for each of the player's pokemon from the `pokedex` dictionary.\n",
    "4. Print \"[player name]'s power is [player power].\", where the player power is the sum of the base statistics for all of their pokemon.\n",
    "5. Return the player's power value.\n",
    "\n",
    "Print out the pokemon power for each of your players."
   ]
  },
  {
   "cell_type": "code",
   "execution_count": 18,
   "metadata": {
    "scrolled": true
   },
   "outputs": [],
   "source": [
    "def pokemon_power (players, pokedex, player_id):\n",
    "    pokemon = players[player_id]['player_pokemon']\n",
    "    \n",
    "    player_pokemon_power = 0\n",
    "    print('{} has pokemons:'.format(players[player_id]['player_name']))\n",
    "    for key, value in pokemon.items():\n",
    "        attack = pokedex[key]['attack']\n",
    "        defense = pokedex[key]['defense']\n",
    "        special_attack = pokedex[key]['special_attack']\n",
    "        special_defense = pokedex[key]['special_defense']\n",
    "        speed = pokedex[key]['speed']\n",
    "        player_pokemon_power = attack+defense+special_attack+special_defense+speed\n",
    "        print('{}: power {}'.format(pokedex[key]['name'], player_pokemon_power))\n",
    "      \n",
    "        player_power = player_power + sum(val)\n",
    " \n",
    "    print(\"{}'s power is {}\".format(players[player_id]['player_name'], player_power))\n",
    "return"
   ]
  },
  {
   "cell_type": "markdown",
   "metadata": {
    "collapsed": true
   },
   "source": [
    "<img src=\"http://imgur.com/l5NasQj.png\" style=\"float: left; margin: 25px 15px 0px 0px; height: 25px\">\n",
    "\n",
    "## 8. Load a pokedex file containing all the pokemon\n",
    "\n",
    "---\n",
    "\n",
    "### 8.1\n",
    "\n",
    "While you were putting together the prototype code, your colleagues were preparing a dataset of Pokemon and their attributes. (This was a rush job, so they may have picked some crazy values for some...)\n",
    "\n",
    "The code below loads information from a comma separated value (csv) file. You need to parse this string into a more useable format. The format of the string is:\n",
    "\n",
    "- Rows are separated by newline characters: \\n\n",
    "- Columns are separated by commas: ,\n",
    "- All cells in the csv are double quoted. Ex: \"PokedexNumber\" is the first cell of the first row.\n",
    "\n",
    "\n",
    "Using for-loops, create a list of lists where each list within the overall list is a row of the csv/matrix, and each element in that list is a cell in that row. Additional criteria:\n",
    "\n",
    "1. Quotes are removed from each cell item.\n",
    "2. Numeric column values are converted to floats.\n",
    "3. There are some cells that are empty and have no information. For these cells put a -1 value in place.\n",
    "\n",
    "Your end result is effectively a matrix. Each list in the outer list is a row, and the *j*th elements of list together form the *j*th column, which represents a data attribute. The first three lists in your pokedex list should look like this:\n",
    "\n",
    "    ['PokedexNumber', 'Name', 'Type', 'Total', 'HP', 'Attack', 'Defense', 'SpecialAttack', 'SpecialDefense', 'Speed']\n",
    "    [1.0, 'Bulbasaur', 'GrassPoison', 318.0, 45.0, 49.0, 49.0, 65.0, 65.0, 45.0]\n",
    "    [2.0, 'Ivysaur', 'GrassPoison', 405.0, 60.0, 62.0, 63.0, 80.0, 80.0, 60.0]"
   ]
  },
  {
   "cell_type": "code",
   "execution_count": null,
   "metadata": {},
   "outputs": [],
   "source": [
    "# Code to read in pokedex info\n",
    "raw_pd = ''\n",
    "pokedex_file = 'pokedex_basic.csv'\n",
    "with open(pokedex_file, 'r') as f:\n",
    "    raw_pd = f.read()\n",
    "    \n",
    "# the pokedex string is assigned to the raw_pd variable"
   ]
  },
  {
   "cell_type": "code",
   "execution_count": null,
   "metadata": {},
   "outputs": [],
   "source": [
    "clean1 = raw_pd.splitlines()"
   ]
  },
  {
   "cell_type": "code",
   "execution_count": null,
   "metadata": {},
   "outputs": [],
   "source": [
    "clean1"
   ]
  },
  {
   "cell_type": "code",
   "execution_count": null,
   "metadata": {},
   "outputs": [],
   "source": [
    "for line in clean1:\n",
    "    print line"
   ]
  },
  {
   "cell_type": "code",
   "execution_count": null,
   "metadata": {},
   "outputs": [],
   "source": [
    "cleanraw"
   ]
  },
  {
   "cell_type": "markdown",
   "metadata": {},
   "source": [
    "<img src=\"http://imgur.com/xDpSobf.png\" style=\"float: left; margin: 25px 15px 0px 0px; height: 25px\">\n",
    "\n",
    "### 8.2 Parse the raw pokedex with list comprehensions\n",
    "\n",
    "---\n",
    "\n",
    "Perform the same parsing as above, but **using only a single list comprehension** instead of for loops. You may have nested list comprehensions within the main list comprehension! The output should be exactly the same."
   ]
  },
  {
   "cell_type": "code",
   "execution_count": null,
   "metadata": {},
   "outputs": [],
   "source": []
  },
  {
   "cell_type": "markdown",
   "metadata": {},
   "source": [
    "<img src=\"http://imgur.com/l5NasQj.png\" style=\"float: left; margin: 25px 15px 0px 0px; height: 25px\">\n",
    "\n",
    "## 9. Write a function to generate the full pokedex\n",
    "\n",
    "---\n",
    "\n",
    "Write a function that recreates the pokedex you made before, but with the data read in from the full pokemon file. The `PokedexNumber` should be used as the `pokemon_id` key values for the dictionary of pokemon.\n",
    "\n",
    "Your function should:\n",
    "\n",
    "1. Take the parsed pokedex information you created above as an argument.\n",
    "2. Return a dictionary in the same format as your original pokedex you created before containing the information from the parsed full pokedex file.\n",
    "\n",
    "To test the function, print out the pokemon with id = 100."
   ]
  },
  {
   "cell_type": "code",
   "execution_count": null,
   "metadata": {
    "scrolled": true
   },
   "outputs": [],
   "source": []
  },
  {
   "cell_type": "markdown",
   "metadata": {},
   "source": [
    "<img src=\"http://i.imgur.com/GCAf1UX.png\" style=\"float: left; margin: 25px 15px 0px 0px; height: 25px\">\n",
    "\n",
    "## 10. Write a function to generate a \"filtered\" pokedex\n",
    "---\n",
    "Your function should:\n",
    "1. Take the parsed pokedex information you created above as an argument.\n",
    "1. Take a dictionary as a parameter with keys matching the features of the Pokedex, filtering by exact match for string type values, and/or filter continuous variables specified value that is greater than or equal to the dictionary key parameter.\n",
    "1. Return multiple elements from the Pokedex\n",
    "\n",
    "Example:\n",
    "\n",
    "```python\n",
    "\n",
    "# Only filter based on parameters passed\n",
    "filter_options = {\n",
    "    'Attack':   25,\n",
    "    'Defense':  30,\n",
    "    'Type':     'Electric'\n",
    "}\n",
    "\n",
    "# Return records with attack >= 24, defense >= 30, and type == \"Electric\"\n",
    "# Also anticipate that other paramters can also be passed such as \"SpecialAttack\", \"Speed\", etc.\n",
    "filtered_pokedex(pokedex_data, filter=filter_options)\n",
    "\n",
    "# Example output:\n",
    "# [{'Attack': 30.0,\n",
    "#  'Defense': 50.0,\n",
    "#  'HP': 40.0,\n",
    "#  'Name': 'Voltorb',\n",
    "#  'SpecialAttack': 55.0,\n",
    "#  'SpecialDefense': 55.0,\n",
    "#  'Speed': 100.0,\n",
    "#  'Total': 330.0,\n",
    "#  'Type': 'Electric'},\n",
    "#  {'Attack': 30.0,\n",
    "#  'Defense': 33.0,\n",
    "#  'HP': 32.0,\n",
    "#  'Name': 'Pikachu',\n",
    "#  'SpecialAttack': 55.0,\n",
    "#  'SpecialDefense': 55.0,\n",
    "#  'Speed': 100.0,\n",
    "#  'Total': 330.0,\n",
    "#  'Type': 'Electric'},\n",
    "#  ... etc\n",
    "#  ]\n",
    "\n",
    "```\n",
    "\n"
   ]
  },
  {
   "cell_type": "code",
   "execution_count": null,
   "metadata": {},
   "outputs": [],
   "source": []
  },
  {
   "cell_type": "markdown",
   "metadata": {
    "collapsed": true
   },
   "source": [
    "\n",
    "## 9. Descriptive statistics on the prototype pokedex\n",
    "\n",
    "<img src=\"http://imgur.com/l5NasQj.png\" style=\"float: left; margin: 25px 15px 0px 0px; height: 25px\">\n",
    "### 9.1\n",
    "\n",
    "What is the population mean and standard deviation of the \"Total\" attribute for all characters in the Pokedex?\n",
    "\n"
   ]
  },
  {
   "cell_type": "code",
   "execution_count": null,
   "metadata": {},
   "outputs": [],
   "source": []
  },
  {
   "cell_type": "markdown",
   "metadata": {},
   "source": [
    "<img src=\"http://imgur.com/l5NasQj.png\" style=\"float: left; margin: 25px 15px 0px 0px; height: 25px\">\n",
    "### 9.2\n",
    "\n",
    "The game is no fun if the characters are wildly unbalanced! Are any characters \"overpowered\", which we'll define as having a \"Total\" more than three standard deviations from the population mean?"
   ]
  },
  {
   "cell_type": "code",
   "execution_count": null,
   "metadata": {},
   "outputs": [],
   "source": []
  },
  {
   "cell_type": "markdown",
   "metadata": {},
   "source": [
    "<img src=\"http://imgur.com/xDpSobf.png\" style=\"float: left; margin: 25px 15px 0px 0px; height: 25px\">\n",
    "\n",
    "## 10. Calibrate the frequency of Pokemon\n",
    "\n",
    "The design team wants you to make the powerful Pokemon rare, and the weaklings more common. How would you set the probability $p_i$ of finding Pokemon *i* each time a player visits a gym?\n",
    "\n",
    "Write a function that takes in a Pokedex number and returns a value $p_i$ for that character.\n",
    "\n",
    "Hint: there are many ways you could do this. What do _you_ think makes sense? Start with simplifying assumptions: for example, you could assume that the probabilities of encountering any two Pokemon on one visit to a gym are independent of each other."
   ]
  },
  {
   "cell_type": "code",
   "execution_count": null,
   "metadata": {},
   "outputs": [],
   "source": []
  }
 ],
 "metadata": {
  "anaconda-cloud": {},
  "kernelspec": {
   "display_name": "Python 3",
   "language": "python",
   "name": "python3"
  },
  "language_info": {
   "codemirror_mode": {
    "name": "ipython",
    "version": 3
   },
   "file_extension": ".py",
   "mimetype": "text/x-python",
   "name": "python",
   "nbconvert_exporter": "python",
   "pygments_lexer": "ipython3",
   "version": "3.7.0"
  }
 },
 "nbformat": 4,
 "nbformat_minor": 1
}
